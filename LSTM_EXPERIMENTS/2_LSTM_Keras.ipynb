{
 "cells": [
  {
   "cell_type": "code",
   "execution_count": 1,
   "metadata": {},
   "outputs": [
    {
     "name": "stderr",
     "output_type": "stream",
     "text": [
      "Using TensorFlow backend.\n"
     ]
    }
   ],
   "source": [
    "import pandas as pd\n",
    "import numpy as np\n",
    "from keras import layers, models\n",
    "from keras import callbacks\n",
    "import matplotlib.pyplot as plt\n",
    "from sklearn.preprocessing import MinMaxScaler"
   ]
  },
  {
   "cell_type": "markdown",
   "metadata": {},
   "source": [
    "### Building a Multiple Input Multi-step output\n",
    "\n",
    "- Use Func to split timeseries in to 6 steps in, 6 steps out"
   ]
  },
  {
   "cell_type": "code",
   "execution_count": 2,
   "metadata": {},
   "outputs": [],
   "source": [
    "train = pd.read_csv('../data/TrainingSet_Cleaned.csv',index_col=0)\n",
    "submission = pd.read_csv('../data/SubmissionRows.csv',index_col=0)"
   ]
  },
  {
   "cell_type": "code",
   "execution_count": 3,
   "metadata": {},
   "outputs": [
    {
     "data": {
      "text/html": [
       "<div>\n",
       "<style scoped>\n",
       "    .dataframe tbody tr th:only-of-type {\n",
       "        vertical-align: middle;\n",
       "    }\n",
       "\n",
       "    .dataframe tbody tr th {\n",
       "        vertical-align: top;\n",
       "    }\n",
       "\n",
       "    .dataframe thead th {\n",
       "        text-align: right;\n",
       "    }\n",
       "</style>\n",
       "<table border=\"1\" class=\"dataframe\">\n",
       "  <thead>\n",
       "    <tr style=\"text-align: right;\">\n",
       "      <th></th>\n",
       "      <th>1972</th>\n",
       "      <th>1973</th>\n",
       "      <th>1974</th>\n",
       "      <th>1975</th>\n",
       "      <th>1976</th>\n",
       "      <th>1977</th>\n",
       "      <th>1978</th>\n",
       "      <th>1979</th>\n",
       "      <th>1980</th>\n",
       "      <th>1981</th>\n",
       "      <th>...</th>\n",
       "      <th>1998</th>\n",
       "      <th>1999</th>\n",
       "      <th>2000</th>\n",
       "      <th>2001</th>\n",
       "      <th>2002</th>\n",
       "      <th>2003</th>\n",
       "      <th>2004</th>\n",
       "      <th>2005</th>\n",
       "      <th>2006</th>\n",
       "      <th>2007</th>\n",
       "    </tr>\n",
       "  </thead>\n",
       "  <tbody>\n",
       "    <tr>\n",
       "      <th>16</th>\n",
       "      <td>NaN</td>\n",
       "      <td>NaN</td>\n",
       "      <td>0.267007</td>\n",
       "      <td>0.26767</td>\n",
       "      <td>0.268333</td>\n",
       "      <td>0.268997</td>\n",
       "      <td>0.26966</td>\n",
       "      <td>0.270323</td>\n",
       "      <td>0.270986</td>\n",
       "      <td>0.27165</td>\n",
       "      <td>...</td>\n",
       "      <td>0.279609</td>\n",
       "      <td>0.279609</td>\n",
       "      <td>0.279609</td>\n",
       "      <td>0.279609</td>\n",
       "      <td>0.279609</td>\n",
       "      <td>0.279609</td>\n",
       "      <td>0.279609</td>\n",
       "      <td>0.279609</td>\n",
       "      <td>0.279609</td>\n",
       "      <td>0.279609</td>\n",
       "    </tr>\n",
       "    <tr>\n",
       "      <th>243</th>\n",
       "      <td>NaN</td>\n",
       "      <td>NaN</td>\n",
       "      <td>NaN</td>\n",
       "      <td>NaN</td>\n",
       "      <td>NaN</td>\n",
       "      <td>NaN</td>\n",
       "      <td>NaN</td>\n",
       "      <td>NaN</td>\n",
       "      <td>NaN</td>\n",
       "      <td>NaN</td>\n",
       "      <td>...</td>\n",
       "      <td>NaN</td>\n",
       "      <td>NaN</td>\n",
       "      <td>NaN</td>\n",
       "      <td>NaN</td>\n",
       "      <td>NaN</td>\n",
       "      <td>NaN</td>\n",
       "      <td>52.800000</td>\n",
       "      <td>75.200000</td>\n",
       "      <td>67.400000</td>\n",
       "      <td>84.600000</td>\n",
       "    </tr>\n",
       "    <tr>\n",
       "      <th>559</th>\n",
       "      <td>NaN</td>\n",
       "      <td>NaN</td>\n",
       "      <td>NaN</td>\n",
       "      <td>NaN</td>\n",
       "      <td>NaN</td>\n",
       "      <td>NaN</td>\n",
       "      <td>NaN</td>\n",
       "      <td>NaN</td>\n",
       "      <td>NaN</td>\n",
       "      <td>NaN</td>\n",
       "      <td>...</td>\n",
       "      <td>0.152000</td>\n",
       "      <td>0.187000</td>\n",
       "      <td>0.221000</td>\n",
       "      <td>0.256000</td>\n",
       "      <td>0.291000</td>\n",
       "      <td>0.325000</td>\n",
       "      <td>0.360000</td>\n",
       "      <td>0.395000</td>\n",
       "      <td>0.430000</td>\n",
       "      <td>0.465000</td>\n",
       "    </tr>\n",
       "    <tr>\n",
       "      <th>618</th>\n",
       "      <td>NaN</td>\n",
       "      <td>NaN</td>\n",
       "      <td>NaN</td>\n",
       "      <td>NaN</td>\n",
       "      <td>NaN</td>\n",
       "      <td>NaN</td>\n",
       "      <td>NaN</td>\n",
       "      <td>NaN</td>\n",
       "      <td>NaN</td>\n",
       "      <td>NaN</td>\n",
       "      <td>...</td>\n",
       "      <td>0.000034</td>\n",
       "      <td>0.000039</td>\n",
       "      <td>0.000043</td>\n",
       "      <td>0.000047</td>\n",
       "      <td>0.000046</td>\n",
       "      <td>0.000879</td>\n",
       "      <td>0.001058</td>\n",
       "      <td>0.012241</td>\n",
       "      <td>0.021071</td>\n",
       "      <td>0.019000</td>\n",
       "    </tr>\n",
       "    <tr>\n",
       "      <th>660</th>\n",
       "      <td>NaN</td>\n",
       "      <td>NaN</td>\n",
       "      <td>NaN</td>\n",
       "      <td>NaN</td>\n",
       "      <td>NaN</td>\n",
       "      <td>NaN</td>\n",
       "      <td>NaN</td>\n",
       "      <td>NaN</td>\n",
       "      <td>NaN</td>\n",
       "      <td>NaN</td>\n",
       "      <td>...</td>\n",
       "      <td>11.600000</td>\n",
       "      <td>11.800000</td>\n",
       "      <td>12.000000</td>\n",
       "      <td>13.600000</td>\n",
       "      <td>15.200000</td>\n",
       "      <td>16.800000</td>\n",
       "      <td>18.400000</td>\n",
       "      <td>20.000000</td>\n",
       "      <td>20.000000</td>\n",
       "      <td>20.000000</td>\n",
       "    </tr>\n",
       "  </tbody>\n",
       "</table>\n",
       "<p>5 rows × 36 columns</p>\n",
       "</div>"
      ],
      "text/plain": [
       "     1972  1973      1974     1975      1976      1977     1978      1979  \\\n",
       "16    NaN   NaN  0.267007  0.26767  0.268333  0.268997  0.26966  0.270323   \n",
       "243   NaN   NaN       NaN      NaN       NaN       NaN      NaN       NaN   \n",
       "559   NaN   NaN       NaN      NaN       NaN       NaN      NaN       NaN   \n",
       "618   NaN   NaN       NaN      NaN       NaN       NaN      NaN       NaN   \n",
       "660   NaN   NaN       NaN      NaN       NaN       NaN      NaN       NaN   \n",
       "\n",
       "         1980     1981  ...       1998       1999       2000       2001  \\\n",
       "16   0.270986  0.27165  ...   0.279609   0.279609   0.279609   0.279609   \n",
       "243       NaN      NaN  ...        NaN        NaN        NaN        NaN   \n",
       "559       NaN      NaN  ...   0.152000   0.187000   0.221000   0.256000   \n",
       "618       NaN      NaN  ...   0.000034   0.000039   0.000043   0.000047   \n",
       "660       NaN      NaN  ...  11.600000  11.800000  12.000000  13.600000   \n",
       "\n",
       "          2002       2003       2004       2005       2006       2007  \n",
       "16    0.279609   0.279609   0.279609   0.279609   0.279609   0.279609  \n",
       "243        NaN        NaN  52.800000  75.200000  67.400000  84.600000  \n",
       "559   0.291000   0.325000   0.360000   0.395000   0.430000   0.465000  \n",
       "618   0.000046   0.000879   0.001058   0.012241   0.021071   0.019000  \n",
       "660  15.200000  16.800000  18.400000  20.000000  20.000000  20.000000  \n",
       "\n",
       "[5 rows x 36 columns]"
      ]
     },
     "execution_count": 3,
     "metadata": {},
     "output_type": "execute_result"
    }
   ],
   "source": [
    "train.head()"
   ]
  },
  {
   "cell_type": "markdown",
   "metadata": {},
   "source": [
    "### Prepare data"
   ]
  },
  {
   "cell_type": "code",
   "execution_count": 4,
   "metadata": {},
   "outputs": [],
   "source": [
    "# split a multivariate sequence into samples\n",
    "def split_sequences(sequences, n_steps_in, n_steps_out):\n",
    "\tX, y = list(), list()\n",
    "\tfor i in range(len(sequences)):\n",
    "\t\t# find the end of this pattern\n",
    "\t\tend_ix = i + n_steps_in\n",
    "\t\tout_end_ix = end_ix + n_steps_out\n",
    "\t\t# check if we are beyond the dataset\n",
    "\t\tif out_end_ix > len(sequences):\n",
    "\t\t\tbreak\n",
    "\t\t# gather input and output parts of the pattern: target is the next n_steps_out rows at the end of n_steps_in\n",
    "\t\tseq_x, seq_y = sequences[i:end_ix, :], sequences[end_ix:out_end_ix, :]\n",
    "\t\tX.append(seq_x)\n",
    "\t\ty.append(seq_y)\n",
    "\treturn np.array(X), np.array(y)"
   ]
  },
  {
   "cell_type": "code",
   "execution_count": 10,
   "metadata": {},
   "outputs": [],
   "source": [
    "# Scaler:\n",
    "scaler = MinMaxScaler()\n",
    "\n",
    "# Train, Test sets\n",
    "data = train.loc[:,'1980':'2007'].T\n",
    "\n",
    "data = scaler.fit_transform(data)\n",
    "\n",
    "# Back to DF: Consider timeframe 1980 >\n",
    "data = pd.DataFrame(data,index=train.loc[:,'1980':'2007'].columns,columns=train.loc[:,'1980':'2007'].index)\n",
    "\n",
    "### Fill rest of nan values with -1:\n",
    "data = data.fillna(-1)\n",
    "\n",
    "# Back to numpy:\n",
    "data = data.values\n",
    "\n",
    "# Timesteps as input/Output:\n",
    "n_steps_in =5\n",
    "n_steps_out = 5\n",
    "\n",
    "X, y = split_sequences(data,n_steps_in,n_steps_out)\n",
    "\n",
    "n_features = X.shape[2]"
   ]
  },
  {
   "cell_type": "code",
   "execution_count": 11,
   "metadata": {},
   "outputs": [
    {
     "name": "stdout",
     "output_type": "stream",
     "text": [
      "Shape of X :  (19, 5, 4068)\n",
      "Shape of y :  (19, 5, 4068)\n"
     ]
    }
   ],
   "source": [
    "# Shape of X, y:\n",
    "print('Shape of X : ',X.shape)\n",
    "print('Shape of y : ',y.shape) # 737 rows to predict"
   ]
  },
  {
   "cell_type": "markdown",
   "metadata": {},
   "source": [
    "### LSTM Network:\n",
    "\n",
    "Multivariate network, multi-output, predict the 2008 for the submission years\n",
    "\n",
    "- Predicts 5 timesteps ahead (years)\n",
    "\n",
    "- Encoder - Decoder LSTM model\n",
    "\n",
    "- Wrapping output into a TimeDistributed layer\n",
    "\n",
    "- 2 Layer, 200 hidden units\n",
    "\n",
    "- Train 1000 Epochs, validation split 20% (training data)\n",
    "\n",
    "- Early stopping round (patience = 50)\n",
    "\n",
    "- Save best model with ModelCheckpoint\n",
    "\n",
    "Goal: To predict 2008 (Target), 2009, 2010, 2011, 2012 (Target)"
   ]
  },
  {
   "cell_type": "markdown",
   "metadata": {},
   "source": [
    "### Build model:\n",
    "\n",
    "- Encoder ,Decoder"
   ]
  },
  {
   "cell_type": "code",
   "execution_count": 12,
   "metadata": {},
   "outputs": [
    {
     "name": "stdout",
     "output_type": "stream",
     "text": [
      "Train on 17 samples, validate on 2 samples\n",
      "Epoch 1/10\n",
      "17/17 [==============================] - 1s 82ms/step - loss: 0.5836 - mean_absolute_error: 0.6516 - val_loss: 0.4565 - val_mean_absolute_error: 0.5415\n",
      "\n",
      "Epoch 00001: val_mean_absolute_error improved from inf to 0.54151, saving model to ts_un.h5\n",
      "Epoch 2/10\n",
      "17/17 [==============================] - 0s 4ms/step - loss: 0.5875 - mean_absolute_error: 0.6554 - val_loss: 0.4723 - val_mean_absolute_error: 0.5611\n",
      "\n",
      "Epoch 00002: val_mean_absolute_error did not improve from 0.54151\n",
      "Epoch 3/10\n",
      "17/17 [==============================] - 0s 4ms/step - loss: 0.8709 - mean_absolute_error: 0.7390 - val_loss: 0.4553 - val_mean_absolute_error: 0.5507\n",
      "\n",
      "Epoch 00003: val_mean_absolute_error did not improve from 0.54151\n",
      "Epoch 4/10\n",
      "17/17 [==============================] - 0s 4ms/step - loss: 0.6160 - mean_absolute_error: 0.6553 - val_loss: 0.4496 - val_mean_absolute_error: 0.5494\n",
      "\n",
      "Epoch 00004: val_mean_absolute_error did not improve from 0.54151\n",
      "Epoch 5/10\n",
      "17/17 [==============================] - 0s 4ms/step - loss: 0.6049 - mean_absolute_error: 0.6413 - val_loss: 0.4401 - val_mean_absolute_error: 0.5445\n",
      "\n",
      "Epoch 00005: val_mean_absolute_error did not improve from 0.54151\n",
      "Epoch 6/10\n",
      "17/17 [==============================] - 0s 4ms/step - loss: 0.5309 - mean_absolute_error: 0.6058 - val_loss: 0.4300 - val_mean_absolute_error: 0.5408\n",
      "\n",
      "Epoch 00006: val_mean_absolute_error improved from 0.54151 to 0.54081, saving model to ts_un.h5\n",
      "Epoch 7/10\n",
      "17/17 [==============================] - 0s 4ms/step - loss: 0.5083 - mean_absolute_error: 0.5896 - val_loss: 0.4513 - val_mean_absolute_error: 0.5551\n",
      "\n",
      "Epoch 00007: val_mean_absolute_error did not improve from 0.54081\n",
      "Epoch 8/10\n",
      "17/17 [==============================] - 0s 4ms/step - loss: 0.4506 - mean_absolute_error: 0.5532 - val_loss: 0.4776 - val_mean_absolute_error: 0.5635\n",
      "\n",
      "Epoch 00008: val_mean_absolute_error did not improve from 0.54081\n",
      "Epoch 9/10\n",
      "17/17 [==============================] - 0s 4ms/step - loss: 0.4202 - mean_absolute_error: 0.5258 - val_loss: 0.4743 - val_mean_absolute_error: 0.5603\n",
      "\n",
      "Epoch 00009: val_mean_absolute_error did not improve from 0.54081\n",
      "Epoch 10/10\n",
      "17/17 [==============================] - 0s 4ms/step - loss: 0.3834 - mean_absolute_error: 0.4973 - val_loss: 0.4113 - val_mean_absolute_error: 0.5258\n",
      "\n",
      "Epoch 00010: val_mean_absolute_error improved from 0.54081 to 0.52584, saving model to ts_un.h5\n"
     ]
    }
   ],
   "source": [
    "# Define model: 128 units\n",
    "model = models.Sequential()\n",
    "model.add(layers.Masking(mask_value=-1,input_shape=(n_steps_in,n_features)))\n",
    "model.add(layers.LSTM(128, activation='relu'))\n",
    "model.add(layers.RepeatVector(n_steps_out))\n",
    "model.add(layers.LSTM(128, activation='relu', return_sequences=True))\n",
    "model.add(layers.TimeDistributed(layers.Dense(y.shape[2])))\n",
    "# compile:\n",
    "model.compile(optimizer='adam',loss='mse',metrics=['mean_absolute_error'])\n",
    "\n",
    "# Early stopping round, Model Checkpoint\n",
    "es = callbacks.EarlyStopping(monitor='val_mean_absolute_error',mode='min',patience=200,verbose=1)\n",
    "mc = callbacks.ModelCheckpoint('ts_un.h5',save_best_only=True,monitor='val_mean_absolute_error',mode='min',verbose=1)\n",
    "\n",
    "# Fit:\n",
    "# history = model.fit(X,y,validation_split=0.1,epochs=2000,shuffle=False,callbacks=[es,mc])\n",
    "history = model.fit(X,y,validation_split=0.1,epochs=10,shuffle=False,callbacks=[es,mc])"
   ]
  },
  {
   "cell_type": "code",
   "execution_count": 13,
   "metadata": {},
   "outputs": [
    {
     "data": {
      "text/plain": [
       "<matplotlib.legend.Legend at 0x7f0aa44ab898>"
      ]
     },
     "execution_count": 13,
     "metadata": {},
     "output_type": "execute_result"
    },
    {
     "data": {
      "image/png": "[encoded data removed]",
      "text/plain": [
       "<Figure size 720x576 with 1 Axes>"
      ]
     },
     "metadata": {
      "needs_background": "light"
     },
     "output_type": "display_data"
    }
   ],
   "source": [
    "#plot:\n",
    "plt.figure(figsize=(10,8))\n",
    "plt.plot(history.history['val_loss'],label='val_loss')\n",
    "plt.plot(history.history['loss'],label='loss')\n",
    "plt.legend()"
   ]
  },
  {
   "cell_type": "markdown",
   "metadata": {},
   "source": [
    "### Predict"
   ]
  },
  {
   "cell_type": "code",
   "execution_count": 14,
   "metadata": {},
   "outputs": [],
   "source": [
    "# X_test:\n",
    "X_input = data[-5:,:].reshape(1,5,data.shape[1])"
   ]
  },
  {
   "cell_type": "code",
   "execution_count": 15,
   "metadata": {},
   "outputs": [],
   "source": [
    "# Predict: Load Model\n",
    "saved_model = models.load_model('ts_un.h5')"
   ]
  },
  {
   "cell_type": "code",
   "execution_count": 16,
   "metadata": {},
   "outputs": [],
   "source": [
    "y_pred_2008_2012 = saved_model.predict(X_input)"
   ]
  },
  {
   "cell_type": "code",
   "execution_count": 17,
   "metadata": {},
   "outputs": [],
   "source": [
    "y_pred_2008_2012 = y_pred_2008_2012.reshape(5,y_pred_2008_2012.shape[2])"
   ]
  },
  {
   "cell_type": "code",
   "execution_count": 18,
   "metadata": {},
   "outputs": [],
   "source": [
    "# Build back DF:\n",
    "index_years = list(train.loc[:,'1980':'2007'].columns) + [str(x) for x in range(2008,2013)]\n",
    "columns = list(train.loc[:,'1980':'2007'].index)\n",
    "df_1972_2012 = pd.DataFrame(np.concatenate([data,y_pred_2008_2012]),index=index_years,columns=columns)\n"
   ]
  },
  {
   "cell_type": "code",
   "execution_count": 19,
   "metadata": {},
   "outputs": [],
   "source": [
    "# Put into right format\n",
    "df_1972_2012_unscaled = scaler.inverse_transform(df_1972_2012.values)\n",
    "\n",
    "df_1972_2012_unscaled = pd.DataFrame(df_1972_2012_unscaled,index=index_years,columns=columns)\n",
    "\n",
    "df_1972_2012_unscaled = df_1972_2012_unscaled.T\n",
    "\n"
   ]
  },
  {
   "cell_type": "code",
   "execution_count": 20,
   "metadata": {},
   "outputs": [],
   "source": [
    "# Incase values became negative:\n",
    "df_1972_2012_unscaled = df_1972_2012_unscaled[['2008','2012']].applymap(lambda x: abs(x))"
   ]
  },
  {
   "cell_type": "code",
   "execution_count": 21,
   "metadata": {},
   "outputs": [],
   "source": [
    "# Submission columns:\n",
    "df_pred = df_1972_2012_unscaled.loc[submission.index,:]\n",
    "\n",
    "df_pred.columns = submission.columns"
   ]
  },
  {
   "cell_type": "code",
   "execution_count": 22,
   "metadata": {},
   "outputs": [],
   "source": [
    "df_pred.to_csv('../bin/Final_Pred.csv')"
   ]
  },
  {
   "cell_type": "code",
   "execution_count": null,
   "metadata": {},
   "outputs": [],
   "source": []
  }
 ],
 "metadata": {
  "kernelspec": {
   "display_name": "Python 3",
   "language": "python",
   "name": "python3"
  },
  "language_info": {
   "codemirror_mode": {
    "name": "ipython",
    "version": 3
   },
   "file_extension": ".py",
   "mimetype": "text/x-python",
   "name": "python",
   "nbconvert_exporter": "python",
   "pygments_lexer": "ipython3",
   "version": "3.7.3"
  }
 },
 "nbformat": 4,
 "nbformat_minor": 4
}
